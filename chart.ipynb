{
 "metadata": {
  "name": "",
  "signature": "sha256:7ac792a527c52f63243708813caca27854718a82c57c47e45d06f2fefd6e9a09"
 },
 "nbformat": 3,
 "nbformat_minor": 0,
 "worksheets": [
  {
   "cells": [
    {
     "cell_type": "markdown",
     "metadata": {},
     "source": [
      "# Chart Example\n",
      "### Visualize product stability data using Chart.js package."
     ]
    },
    {
     "cell_type": "code",
     "collapsed": false,
     "input": [
      "%%javascript\n",
      "require.config({\n",
      "    paths: {chartjs: 'https://cdnjs.cloudflare.com/ajax/libs/Chart.js/1.0.2/Chart.min'}\n",
      "});"
     ],
     "language": "python",
     "metadata": {},
     "outputs": [
      {
       "javascript": [
        "require.config({\n",
        "    paths: {chartjs: 'https://cdnjs.cloudflare.com/ajax/libs/Chart.js/1.0.2/Chart.min'}\n",
        "});"
       ],
       "metadata": {},
       "output_type": "display_data",
       "text": [
        "<IPython.core.display.Javascript at 0x7fb89ca3fd50>"
       ]
      }
     ],
     "prompt_number": 1
    },
    {
     "cell_type": "code",
     "collapsed": false,
     "input": [
      "prod_stabcount = pd.read_csv('prod_stabcount.csv')"
     ],
     "language": "python",
     "metadata": {},
     "outputs": [],
     "prompt_number": 2
    },
    {
     "cell_type": "code",
     "collapsed": false,
     "input": [
      "def display_chart_chartjs(df, div):\n",
      "    mychart_template = jinja2.Template(\n",
      "    \"\"\"\n",
      "    require([\"chartjs\"], function() {\n",
      "        var data = {\n",
      "            labels : {{ labels }},\n",
      "            datasets : [{\n",
      "                fillColor : \"rgba(151,187,205,0.5)\",\n",
      "                strokeColor : \"rgba(220,220,220,1)\",\n",
      "                data : {{ count }}\n",
      "            }]\n",
      "        }\n",
      "        var ctx = document.getElementById(\"mychart\").getContext('2d');\n",
      "        new Chart(ctx).Bar(data,{});\n",
      "    });\n",
      "    \"\"\"\n",
      "    )    \n",
      "    labels = df['prod_code'].tolist()\n",
      "    count = df['count'].tolist()\n",
      "    rendered_template = mychart_template.render(\n",
      "        labels=dumps(labels),\n",
      "        count=dumps(count)\n",
      "    )\n",
      "    display(Javascript(rendered_template))"
     ],
     "language": "python",
     "metadata": {},
     "outputs": [],
     "prompt_number": 3
    },
    {
     "cell_type": "code",
     "collapsed": false,
     "input": [
      "i = interact(\n",
      "    display_chart_chartjs,\n",
      "    df=widgets.fixed(prod_stabcount),\n",
      "    div=widgets.HTMLWidget(value='<canvas width=800 height=400 id=\"mychart\"></canvas>')\n",
      ")"
     ],
     "language": "python",
     "metadata": {},
     "outputs": [
      {
       "javascript": [
        "\n",
        "    require([\"chartjs\"], function() {\n",
        "        var data = {\n",
        "            labels : [\"ghost_row\", \"falcon_umts\", \"ghost_att\", \"quark_verizon\", \"metallica\", \"victara_att\", \"victara_verizon\", \"ghost_verizon\", \"obake_verizon\", \"shamu\"],\n",
        "            datasets : [{\n",
        "                fillColor : \"rgba(151,187,205,0.5)\",\n",
        "                strokeColor : \"rgba(220,220,220,1)\",\n",
        "                data : [974, 911, 722, 685, 644, 622, 438, 414, 328, 299]\n",
        "            }]\n",
        "        }\n",
        "        var ctx = document.getElementById(\"mychart\").getContext('2d');\n",
        "        new Chart(ctx).Bar(data,{});\n",
        "    });\n",
        "    "
       ],
       "metadata": {},
       "output_type": "display_data",
       "text": [
        "<IPython.core.display.Javascript at 0x7fb89c1c7310>"
       ]
      }
     ],
     "prompt_number": 4
    }
   ],
   "metadata": {}
  }
 ]
}