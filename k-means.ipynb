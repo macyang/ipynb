{
 "metadata": {
  "name": "",
  "signature": "sha256:3789e016abd560679682c052dc227d6a12566150e544489e766a309585a74552"
 },
 "nbformat": 3,
 "nbformat_minor": 0,
 "worksheets": [
  {
   "cells": [
    {
     "cell_type": "code",
     "collapsed": false,
     "input": [
      "%matplotlib inline\n",
      "import numpy as np\n",
      "import matplotlib.pyplot as plt\n",
      "from scipy.cluster.vq import *"
     ],
     "language": "python",
     "metadata": {},
     "outputs": []
    },
    {
     "cell_type": "code",
     "collapsed": false,
     "input": [
      "# generate 3 sets of normally distributed points around\n",
      "# different means with different variances\n",
      "pt1 = np.random.normal(1, 0.2, (100,2))\n",
      "count, bins, ignored = plt.hist(pt1, 30, normed=True)"
     ],
     "language": "python",
     "metadata": {},
     "outputs": []
    },
    {
     "cell_type": "code",
     "collapsed": false,
     "input": [
      "pt2 = np.random.normal(2, 0.5, (300,2))\n",
      "# slightly move sets 2 and 3 (for a prettier output)\n",
      "pt2[:,0] += 1\n",
      "count, bins, ignored = plt.hist(pt2, 30, normed=True)"
     ],
     "language": "python",
     "metadata": {},
     "outputs": []
    },
    {
     "cell_type": "code",
     "collapsed": false,
     "input": [
      "pt3 = np.random.normal(3, 0.3, (100,2))\n",
      "# slightly move sets 2 and 3 (for a prettier output)\n",
      "pt3[:,0] -= 0.5\n",
      "count, bins, ignored = plt.hist(pt3, 30, normed=True)"
     ],
     "language": "python",
     "metadata": {},
     "outputs": []
    },
    {
     "cell_type": "code",
     "collapsed": false,
     "input": [
      "xy = np.concatenate((pt1, pt2, pt3))\n",
      " \n",
      "# kmeans for 3 clusters\n",
      "res, idx = kmeans2(np.array(zip(xy[:,0],xy[:,1])),3)\n",
      " \n",
      "colors = ([([0.4,1,0.4],[1,0.4,0.4],[0.1,0.8,1])[i] for i in idx])\n",
      " \n",
      "# plot colored points\n",
      "plt.scatter(xy[:,0],xy[:,1], c=colors)\n",
      " \n",
      "# mark centroids as (X)\n",
      "plt.scatter(res[:,0],res[:,1], marker='o', s = 500, linewidths=2, c='none')\n",
      "plt.scatter(res[:,0],res[:,1], marker='x', s = 500, linewidths=3)"
     ],
     "language": "python",
     "metadata": {},
     "outputs": []
    },
    {
     "cell_type": "code",
     "collapsed": false,
     "input": [],
     "language": "python",
     "metadata": {},
     "outputs": []
    }
   ],
   "metadata": {}
  }
 ]
}