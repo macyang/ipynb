{
 "metadata": {
  "name": "",
  "signature": "sha256:59c5346bec2157860d5ef26c30351b8d427d01c884ffd958f7167214f85ae99a"
 },
 "nbformat": 3,
 "nbformat_minor": 0,
 "worksheets": [
  {
   "cells": [
    {
     "cell_type": "code",
     "collapsed": false,
     "input": [
      "from IPython.display import HTML\n",
      "s = \"<table>\"\n",
      "for row in d:\n",
      "    s += \"<tr>\"\n",
      "    for r in row.split(\" \"):\n",
      "        s += \"<td>\" + r + \"</td>\"\n",
      "    s += \"</tr>\"\n",
      "    \n",
      "s += \"</table>\"\n",
      "h = HTML(s)\n",
      "h"
     ],
     "language": "python",
     "metadata": {},
     "outputs": []
    }
   ],
   "metadata": {}
  }
 ]
}