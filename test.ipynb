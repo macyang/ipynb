{
 "metadata": {
  "name": "",
  "signature": "sha256:e59a78dd78ad8fc3b99e93b6471c8a149fed0b71c5e859cca86c78a66633726e"
 },
 "nbformat": 3,
 "nbformat_minor": 0,
 "worksheets": [
  {
   "cells": [
    {
     "cell_type": "code",
     "collapsed": false,
     "input": [
      "from pyspark import SparkContext"
     ],
     "language": "python",
     "metadata": {},
     "outputs": []
    },
    {
     "cell_type": "code",
     "collapsed": false,
     "input": [
      "sc = SparkContext(\"local\")"
     ],
     "language": "python",
     "metadata": {},
     "outputs": []
    },
    {
     "cell_type": "code",
     "collapsed": false,
     "input": [
      "lines = sc.textFile('/tmp/kmeans_data.txt')\n",
      "d = lines.collect()"
     ],
     "language": "python",
     "metadata": {},
     "outputs": []
    },
    {
     "cell_type": "code",
     "collapsed": false,
     "input": [
      "from IPython.display import HTML"
     ],
     "language": "python",
     "metadata": {},
     "outputs": []
    },
    {
     "cell_type": "code",
     "collapsed": false,
     "input": [
      "s = \"<table>\"\n",
      "\n",
      "for row in d:\n",
      "    s += \"<tr>\"\n",
      "    for r in row.split(\" \"):\n",
      "        s += \"<td>\" + r + \"</td>\"\n",
      "    s += \"</tr>\"\n",
      "    \n",
      "s += \"</table>\"\n",
      "\n",
      "h = HTML(s)\n",
      "h"
     ],
     "language": "python",
     "metadata": {},
     "outputs": []
    },
    {
     "cell_type": "code",
     "collapsed": false,
     "input": [
      "%matplotlib inline\n",
      "import matplotlib.pyplot as plt\n",
      "import numpy as np"
     ],
     "language": "python",
     "metadata": {},
     "outputs": []
    },
    {
     "cell_type": "code",
     "collapsed": false,
     "input": [
      "import json\n",
      "import requests"
     ],
     "language": "python",
     "metadata": {},
     "outputs": []
    },
    {
     "cell_type": "code",
     "collapsed": false,
     "input": [
      "contextAPI = 'http://localhost:8090/contexts'\n",
      "jobAPI = 'http://localhost:8090/jobs'"
     ],
     "language": "python",
     "metadata": {},
     "outputs": []
    },
    {
     "cell_type": "code",
     "collapsed": false,
     "input": [
      "conf = \"\"\"\n",
      "SummaryStats {\n",
      "    input0 = \"tap:nrdd0\"\n",
      "}\n",
      "\"\"\"\n",
      "job = jobAPI + '?appName=tap&classPath=tap.engine.SummaryStats&context=tap-context&sync=true'\n",
      "r = requests.post(job, data = conf)\n",
      "resp = json.loads(r.text)\n",
      "print resp['result']"
     ],
     "language": "python",
     "metadata": {},
     "outputs": []
    },
    {
     "cell_type": "code",
     "collapsed": false,
     "input": [
      "conf = \"\"\"\n",
      "CatN {\n",
      "    input0 = \"tap:nrdd0\"\n",
      "    n = 100\n",
      "}\n",
      "\"\"\"\n",
      "job = jobAPI + '?appName=tap&classPath=tap.engine.CatN&context=tap-context&sync=true'\n",
      "r = requests.post(job, data = conf)\n",
      "resp = json.loads(r.text)\n",
      "\n",
      "data_list = resp['result']['data']\n",
      "xlist = []\n",
      "ylist = []\n",
      "for dS in data_list:\n",
      "    d = json.loads(dS)\n",
      "    xlist.append(d[0])\n",
      "    ylist.append(d[1])\n",
      "plt.plot(xlist, ylist, marker='o', color='r', ls='')"
     ],
     "language": "python",
     "metadata": {},
     "outputs": []
    },
    {
     "cell_type": "code",
     "collapsed": false,
     "input": [
      "x = np.linspace(0, 3*np.pi, 500)\n",
      "plt.title('A simple chirp')\n",
      "plt.plot(x, np.sin(x**2))"
     ],
     "language": "python",
     "metadata": {},
     "outputs": []
    },
    {
     "cell_type": "code",
     "collapsed": false,
     "input": [],
     "language": "python",
     "metadata": {},
     "outputs": []
    }
   ],
   "metadata": {}
  }
 ]
}