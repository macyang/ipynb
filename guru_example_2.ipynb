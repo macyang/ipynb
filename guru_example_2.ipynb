{
 "metadata": {
  "name": "",
  "signature": "sha256:94959a2319abddcb8e9b1f3cfcdcfeb4ae3f537710f816f0616ce7e114ecb566"
 },
 "nbformat": 3,
 "nbformat_minor": 0,
 "worksheets": [
  {
   "cells": [
    {
     "cell_type": "markdown",
     "metadata": {},
     "source": [
      "# Example 2\n",
      "### In this example, we will read CSV formated data files stored in HDFS and then run K-means cluster analysis."
     ]
    },
    {
     "cell_type": "markdown",
     "metadata": {},
     "source": [
      "## Create an Application Context\n",
      "An application context is basically a SparkConext wrapper. It is referenced by name and is required for all GURU API calls.\n",
      "Here we create a new context named \"guru-context\" using the <b>/contexts</b> REST end point. "
     ]
    },
    {
     "cell_type": "code",
     "collapsed": true,
     "input": [
      "q = contextAPI + '/guru-context?num-cpu-cores=4&mem-per-node=512m'\n",
      "requests.post(q)"
     ],
     "language": "python",
     "metadata": {},
     "outputs": []
    },
    {
     "cell_type": "markdown",
     "metadata": {},
     "source": [
      "## Load CSV data from HDFS\n",
      "Here we use the <b>FileReader</b> module to read the data from HDFS. Also, we name the output RDD: \"somedata\"."
     ]
    },
    {
     "cell_type": "code",
     "collapsed": false,
     "input": [
      "conf = \"\"\"\n",
      "FileReader {\n",
      "    inputFile=\"hdfs://hadoop-m/tmp/3M.csv\"\n",
      "    format=\"CSV\"\n",
      "    output0=\"somedata\"\n",
      "}\n",
      "\"\"\"\n",
      "job = jobAPI + '?appName=tap&classPath=tap.engine.FileReader&context=guru-context&sync=true'\n",
      "r = requests.post(job, data = conf)\n",
      "resp = json.loads(r.text)\n",
      "print resp['result']"
     ],
     "language": "python",
     "metadata": {},
     "outputs": []
    },
    {
     "cell_type": "markdown",
     "metadata": {},
     "source": [
      "## Check the stats of the dataset\n",
      "As an optional step, we can invoke the <b>SummaryStats</b> module to gather basic stats of the dataset we just loaded."
     ]
    },
    {
     "cell_type": "code",
     "collapsed": false,
     "input": [
      "conf = \"\"\"\n",
      "SummaryStats {\n",
      "    input0 = \"somedata\"\n",
      "}\n",
      "\"\"\"\n",
      "job = jobAPI + '?appName=tap&classPath=tap.engine.SummaryStats&context=guru-context&sync=true'\n",
      "r = requests.post(job, data = conf)\n",
      "resp = json.loads(r.text)\n",
      "print resp['result']"
     ],
     "language": "python",
     "metadata": {},
     "outputs": []
    },
    {
     "cell_type": "markdown",
     "metadata": {},
     "source": [
      "## Visualize the dataset using random samples\n",
      "If the input dataset is big, we can use the <b>TakeSample</b> module to take a small number of random samples from the dataset, and render them in a scatter plot to help visualize the data."
     ]
    },
    {
     "cell_type": "code",
     "collapsed": false,
     "input": [
      "%matplotlib inline"
     ],
     "language": "python",
     "metadata": {},
     "outputs": []
    },
    {
     "cell_type": "code",
     "collapsed": false,
     "input": [
      "conf = \"\"\"\n",
      "TakeSample {\n",
      "    input0 = \"somedata\"\n",
      "    count = 300\n",
      "    seed = 42\n",
      "}\n",
      "\"\"\"\n",
      "job = jobAPI + '?appName=tap&classPath=tap.engine.TakeSample&context=guru-context&sync=true'\n",
      "r = requests.post(job, data = conf)\n",
      "resp = json.loads(r.text)\n",
      "data_list = resp['result']['data']\n",
      "# format the data for matplot\n",
      "sampleX = []\n",
      "sampleY = []\n",
      "for dS in data_list:\n",
      "    d = json.loads(dS)\n",
      "    sampleX.append(d[0])\n",
      "    sampleY.append(d[1])\n",
      "plt.scatter(sampleX, sampleY, marker='o', color='r');"
     ],
     "language": "python",
     "metadata": {},
     "outputs": []
    },
    {
     "cell_type": "markdown",
     "metadata": {},
     "source": [
      "## Run K-Means clustering\n",
      "Now we are ready to run K-means. Since it may take some time to complete, we invoke the <b>ClusterAnalysis</b> module in async mode."
     ]
    },
    {
     "cell_type": "code",
     "collapsed": false,
     "input": [
      "conf = \"\"\"\n",
      "ClusterAnalysis {\n",
      "    input0 = \"somedata\"\n",
      "    method = \"KMeans\"\n",
      "    numClusters = 2\n",
      "    numIterations = 10\n",
      "}\n",
      "\"\"\"\n",
      "job = jobAPI + '?appName=tap&classPath=tap.engine.ClusterAnalysis&context=guru-context'\n",
      "r = requests.post(job, data = conf)\n",
      "resp = json.loads(r.text)\n",
      "jobId = resp['result']['jobId']"
     ],
     "language": "python",
     "metadata": {},
     "outputs": []
    },
    {
     "cell_type": "markdown",
     "metadata": {},
     "source": [
      "## Wait for the job to complete\n",
      "Poll the server until the job is done."
     ]
    },
    {
     "cell_type": "code",
     "collapsed": false,
     "input": [
      "q = jobAPI + \"/\" + jobId\n",
      "r = requests.get(q)\n",
      "resp = json.loads(r.text)\n",
      "print resp"
     ],
     "language": "python",
     "metadata": {},
     "outputs": []
    },
    {
     "cell_type": "code",
     "collapsed": false,
     "input": [
      "centers = resp['result']['centers']\n",
      "# format the data for matplot\n",
      "centerX = []\n",
      "centerY = []\n",
      "for dS in centers:\n",
      "    d = json.loads(dS)\n",
      "    centerX.append(d[0])\n",
      "    centerY.append(d[1])"
     ],
     "language": "python",
     "metadata": {},
     "outputs": []
    },
    {
     "cell_type": "markdown",
     "metadata": {},
     "source": [
      "## Visualize the result"
     ]
    },
    {
     "cell_type": "code",
     "collapsed": false,
     "input": [
      "plt.scatter(sampleX, sampleY, marker='o', color='r');\n",
      "plt.scatter(centerX, centerY, marker='o', s=300, c='none', linewidths=2);"
     ],
     "language": "python",
     "metadata": {},
     "outputs": []
    },
    {
     "cell_type": "markdown",
     "metadata": {},
     "source": [
      "## Clean up\n",
      "Delete the application context to free up the resources associated with it."
     ]
    },
    {
     "cell_type": "code",
     "collapsed": false,
     "input": [
      "q = contextAPI + '/' + 'guru-context'\n",
      "requests.delete(q)"
     ],
     "language": "python",
     "metadata": {},
     "outputs": []
    }
   ],
   "metadata": {}
  }
 ]
}