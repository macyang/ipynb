{
 "metadata": {
  "name": "",
  "signature": "sha256:7af4380a456228d8d7d417c3948c33aa72b0e58a53001c7308c4ca774ceb5d2e"
 },
 "nbformat": 3,
 "nbformat_minor": 0,
 "worksheets": [
  {
   "cells": [
    {
     "cell_type": "markdown",
     "metadata": {},
     "source": [
      "# Example 2\n",
      "### In this example, we will read CSV formated data files stored in HDFS and then run K-means cluster analysis."
     ]
    },
    {
     "cell_type": "markdown",
     "metadata": {},
     "source": [
      "## Create an Application Context\n",
      "An application context is basically a SparkConext wrapper. It is referenced by name and is required for all GURU API calls.\n",
      "Here we create a new context named \"guru-context\". "
     ]
    },
    {
     "cell_type": "code",
     "collapsed": true,
     "input": [
      "resp = createContext(\"guru-context\")\n",
      "print resp"
     ],
     "language": "python",
     "metadata": {},
     "outputs": []
    },
    {
     "cell_type": "markdown",
     "metadata": {},
     "source": [
      "## Load CSV data from HDFS\n",
      "Here we use the <b>FileReader</b> module to read the data from HDFS and name the output RDD \"somedata\". Later on, we will reference this RDD by its name and use it as input to other modules."
     ]
    },
    {
     "cell_type": "code",
     "collapsed": false,
     "input": [
      "conf = \"\"\"\n",
      "FileReader {\n",
      "    inputFile=\"hdfs://hadoop-m/tmp/3M.csv\"\n",
      "    format=\"CSV\"\n",
      "    output0=\"somedata\"\n",
      "}\n",
      "\"\"\"\n",
      "resp = run(\"guru-context\", \"tap.engine.FileReader\", conf)\n",
      "print resp['result']"
     ],
     "language": "python",
     "metadata": {},
     "outputs": []
    },
    {
     "cell_type": "markdown",
     "metadata": {},
     "source": [
      "## Check the stats of the dataset\n",
      "As an optional step, we can invoke the <b>SummaryStats</b> module to gather basic stats of the dataset we just loaded."
     ]
    },
    {
     "cell_type": "code",
     "collapsed": false,
     "input": [
      "conf = \"\"\"\n",
      "SummaryStats {\n",
      "    input0 = \"somedata\"\n",
      "}\n",
      "\"\"\"\n",
      "resp = run(\"guru-context\", \"tap.engine.SummaryStats\", conf)\n",
      "print resp['result']"
     ],
     "language": "python",
     "metadata": {},
     "outputs": []
    },
    {
     "cell_type": "markdown",
     "metadata": {},
     "source": [
      "## Visualize the dataset using random samples\n",
      "If the input dataset is big, we can use the <b>TakeSample</b> module to take a small number of random samples from the dataset. Here we render the sample data in a scatter plot to help visualize the data.<br>\n",
      "The <b>createNumpyArray</b> function converts the JSON array returned from the server into Numpy array to make it easier to work with matplotlib."
     ]
    },
    {
     "cell_type": "code",
     "collapsed": false,
     "input": [
      "%matplotlib inline"
     ],
     "language": "python",
     "metadata": {},
     "outputs": []
    },
    {
     "cell_type": "code",
     "collapsed": false,
     "input": [
      "conf = \"\"\"\n",
      "TakeSample {\n",
      "    input0 = \"somedata\"\n",
      "    count = 300\n",
      "    seed = 125\n",
      "}\n",
      "\"\"\"\n",
      "resp = run(\"guru-context\", \"tap.engine.TakeSample\", conf)\n",
      "dataList = resp['result']['data']\n",
      "sampleArray = createNumpyArray(dataList)\n",
      "plt.scatter(sampleArray[:,0], sampleArray[:,1], marker='o', color='r');"
     ],
     "language": "python",
     "metadata": {},
     "outputs": []
    },
    {
     "cell_type": "markdown",
     "metadata": {},
     "source": [
      "## Run K-Means clustering\n",
      "Now we are ready to run K-means. Since it may take some time to complete, we invoke the <b>ClusterAnalysis</b> module in async mode."
     ]
    },
    {
     "cell_type": "code",
     "collapsed": false,
     "input": [
      "conf = \"\"\"\n",
      "ClusterAnalysis {\n",
      "    input0 = \"somedata\"\n",
      "    method = \"KMeans\"\n",
      "    numClusters = 3\n",
      "    numIterations = 10\n",
      "}\n",
      "\"\"\"\n",
      "resp = run(\"guru-context\", \"tap.engine.ClusterAnalysis\", conf, False)\n",
      "jobId = resp['result']['jobId']\n",
      "print resp"
     ],
     "language": "python",
     "metadata": {},
     "outputs": []
    },
    {
     "cell_type": "markdown",
     "metadata": {},
     "source": [
      "## Wait for the training job to complete\n",
      "Poll the server until the job is done.<br>\n",
      "Here we use the <b>getJobOutput</b> function to wait for the async job to finish and then returns the response."
     ]
    },
    {
     "cell_type": "code",
     "collapsed": false,
     "input": [
      "resp = getJobOutput(jobId, timeout=300)\n",
      "centers = resp['result']['centers']\n",
      "centersArray = createNumpyArray(centers)\n",
      "print centersArray"
     ],
     "language": "python",
     "metadata": {},
     "outputs": []
    },
    {
     "cell_type": "markdown",
     "metadata": {},
     "source": [
      "## Visualize the training result\n",
      "Overlay the centroids on top of the samples we fetched in earlier step."
     ]
    },
    {
     "cell_type": "code",
     "collapsed": false,
     "input": [
      "plt.scatter(sampleArray[:,0], sampleArray[:,1], marker='o', color='r');\n",
      "plt.scatter(centersArray[:,0], centersArray[:,1], marker='o', s=300, c='none', linewidths=2);"
     ],
     "language": "python",
     "metadata": {},
     "outputs": []
    },
    {
     "cell_type": "markdown",
     "metadata": {},
     "source": [
      "## Predict!\n",
      "In this step, we feed the source data we loaded in the first step to the K-means model we just built. This output is a RDD that contains the centroid index for each of the input data point."
     ]
    },
    {
     "cell_type": "code",
     "collapsed": false,
     "input": [
      "conf = \"\"\"\n",
      "KMeansPredict {\n",
      "    input0 = \"somedata\"\n",
      "    output0 = \"indicies\"\n",
      "}\n",
      "\"\"\"\n",
      "resp = run(\"guru-context\", \"tap.engine.KMeansPredict\", conf, False)\n",
      "jobId = resp['result']['jobId']\n",
      "print resp"
     ],
     "language": "python",
     "metadata": {},
     "outputs": []
    },
    {
     "cell_type": "markdown",
     "metadata": {},
     "source": [
      "## Wait for the prediction job to complete\n",
      "Similar to earlier steps, we call <b>getJobOutput</b> to wait for the async job to complete."
     ]
    },
    {
     "cell_type": "code",
     "collapsed": false,
     "input": [
      "resp = getJobOutput(jobId, timeout=300)\n",
      "print resp"
     ],
     "language": "python",
     "metadata": {},
     "outputs": []
    },
    {
     "cell_type": "markdown",
     "metadata": {},
     "source": [
      "## Visualize the prediction result\n",
      "Take some samples from the output of the training job for visualization.<br>\n",
      "Please note that the output of the prediction job only contains the centroid indices. And since we are using random samples for visualization, it is crucial that we use the <b>same count and seed</b> as the one we used ealier when taking samples from the source data."
     ]
    },
    {
     "cell_type": "code",
     "collapsed": false,
     "input": [
      "conf = \"\"\"\n",
      "TakeSample {\n",
      "    input0 = \"indicies\"\n",
      "    count = 300\n",
      "    seed = 125\n",
      "}\n",
      "\"\"\"\n",
      "resp = run(\"guru-context\", \"tap.engine.TakeSample\", conf)\n",
      "colors = ([([0.2,1,0.2],[1,0.2,0.2],[0.1,0.6,1])[i] for i in resp['result']['data']])\n",
      "plt.scatter(sampleArray[:,0], sampleArray[:,1], marker='o', color=colors);\n",
      "plt.scatter(centersArray[:,0], centersArray[:,1], marker='o', s=300, c='none', linewidths=2);"
     ],
     "language": "python",
     "metadata": {},
     "outputs": []
    },
    {
     "cell_type": "markdown",
     "metadata": {},
     "source": [
      "## Clean up\n",
      "Delete the application context to free up the resources associated with it."
     ]
    },
    {
     "cell_type": "code",
     "collapsed": false,
     "input": [
      "resp = deleteContext(\"guru-context\")\n",
      "print resp"
     ],
     "language": "python",
     "metadata": {},
     "outputs": []
    }
   ],
   "metadata": {}
  }
 ]
}